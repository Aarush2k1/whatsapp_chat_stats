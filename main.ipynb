{
 "cells": [
  {
   "cell_type": "code",
   "execution_count": null,
   "metadata": {},
   "outputs": [],
   "source": [
    "import datetime\n",
    "import os\n",
    "import re\n",
    "import pandas as pd\n",
    "import numpy as np\n",
    "import seaborn as sns\n",
    "import matplotlib.pyplot as plt\n",
    "from os import path\n",
    "from dotenv import load_dotenv\n",
    "from wordcloud import WordCloud, STOPWORDS\n",
    "\n",
    "BACKGROUND_COLOR = '#f0efeb'\n",
    "LOOKBACK_WEEKS = 104\n",
    "load_dotenv()\n",
    "\n",
    "plt.rcParams[\"font.family\"] = ['Kristen ITC']\n",
    "plt.rcParams[\"figure.facecolor\"] = BACKGROUND_COLOR\n",
    "plt.rcParams[\"axes.facecolor\"] = BACKGROUND_COLOR\n",
    "plt.rcParams[\"axes.spines.top\"] = False\n",
    "plt.rcParams[\"axes.spines.right\"] = False\n",
    "plt.rcParams[\"axes.spines.left\"] = False\n",
    "plt.rcParams[\"axes.spines.bottom\"] = False"
   ]
  },
  {
   "cell_type": "code",
   "execution_count": null,
   "metadata": {},
   "outputs": [],
   "source": [
    "def startsWithDate(s):\n",
    "    pattern = '^([0-2][0-9]|(3)[0-1][0-9])(\\/)(([0-9])|((1)[0-2]))(\\/)(\\d{2}|\\d{4})'\n",
    "    result = re.match(pattern, s)\n",
    "    if result:\n",
    "        return True\n",
    "    return False\n",
    "def startsWithAuthor(s):\n",
    "    patterns = [\n",
    "        '([\\w]+):',                        # First Name\n",
    "        '([\\w]+[\\s]+[\\w]+):',              # First Name + Last Name\n",
    "        '([\\w]+[\\s]+[\\w]+[\\s]+[\\w]+[\\]):',    # First Name + Middle Name + Last Name\n",
    "        '([+]\\d{2} \\d{5} \\d{5}):',         # Mobile Number (India)\n",
    "        '([+]\\d{2} \\d{3} \\d{3} \\d{4}):',   # Mobile Number (US)\n",
    "    ]\n",
    "    pattern = '^' + '|'.join(patterns)\n",
    "    result = re.match(pattern, s)\n",
    "    if result:\n",
    "        return True\n",
    "    return False\n",
    "def getDataPoint(line):\n",
    "    # line = 18/06/17, 22:47 - Loki: Why do you have 2 numbers, Banner?\n",
    "\n",
    "    # splitLine = ['18/06/17, 22:47', 'Loki: Why do you have 2 numbers, Banner?']\n",
    "    splitLine = line.split(' - ')\n",
    "\n",
    "    dateTime = splitLine[0]  # dateTime = '18/06/17, 22:47'\n",
    "    date, time = dateTime.split(', ')  # date = '18/06/17'; time = '22:47'\n",
    "\n",
    "    # message = 'Loki: Why do you have 2 numbers, Banner?'\n",
    "    message = ' '.join(splitLine[1:])\n",
    "\n",
    "    # if startsWithAuthor(message):  # True\n",
    "    # splitMessage = ['Loki', 'Why do you have 2 numbers, Banner?']\n",
    "    splitMessage = message.split(': ')\n",
    "    author = splitMessage[0]  # author = 'Loki'\n",
    "    # message = 'Why do you have 2 numbers, Banner?'\n",
    "    message = ' '.join(splitMessage[1:])\n",
    "    # else:\n",
    "    #     author = None\n",
    "    return date, time, author, message"
   ]
  },
  {
   "cell_type": "code",
   "execution_count": null,
   "metadata": {},
   "outputs": [],
   "source": [
    "def createDataFrame(filename):\n",
    "    df = open(filename , encoding=\"utf-8\")\n",
    "    lines = df.readlines()\n",
    "    df.close()\n",
    "\n",
    "    parsedData = []\n",
    "    messageBuffer = []  # Buffer to capture intermediate output for multi-line messages\n",
    "    # Intermediate variables to keep track of the current message being processed\n",
    "    date, time, author = None, None, None\n",
    "\n",
    "    # remove /n at the end of each line\n",
    "    for index, line in enumerate(lines):\n",
    "        lines[index] = line.strip()\n",
    "    for line in lines:\n",
    "        if (startsWithDate(line)):\n",
    "\n",
    "            splitLine = line.split(' - ')\n",
    "            dateTime = splitLine[0]\n",
    "            date, time = dateTime.split(', ')\n",
    "\n",
    "            message = ' '.join(splitLine[1:])\n",
    "            if startsWithDate(line):\n",
    "                # Check if the message buffer contains characters from previous iterations\n",
    "                if len(messageBuffer) > 0:\n",
    "                    # Save the tokens from the previous message in parsedData\n",
    "                    parsedData.append([date, time, author, ' '.join(messageBuffer)])\n",
    "                    \n",
    "                # Clear the message buffer so that it can be used for the next message\n",
    "                messageBuffer.clear()\n",
    "                # Identify and extract tokens from the line\n",
    "                date, time, author, message = getDataPoint(line)\n",
    "                messageBuffer.append(message)  # Append message to buffer\n",
    "            else:\n",
    "                # If a line doesn't start with a Date Time pattern, then it is part of a multi-line message. So, just append to buffer\n",
    "                messageBuffer.append(line)\n",
    "\n",
    "    chat_df = pd.DataFrame(parsedData, columns=['Date', 'Time', 'Author', 'Message'])\n",
    "\n",
    "    chat_df['datetime'] = pd.to_datetime(chat_df['Date'] + ' ' + chat_df['Time'],\n",
    "                                    infer_datetime_format=True)\n",
    "    chat_df['weekday'] = chat_df['datetime'].dt.day_name()\n",
    "    chat_df['words'] = chat_df['Message'].apply(lambda s: len(s.split(' ')))\n",
    "    chat_df['letters'] = chat_df['Message'].apply(lambda s: len(s))\n",
    "    return chat_df"
   ]
  },
  {
   "cell_type": "code",
   "execution_count": null,
   "metadata": {},
   "outputs": [],
   "source": [
    "file=os.getenv('FILENAME')\n",
    "file"
   ]
  },
  {
   "cell_type": "code",
   "execution_count": null,
   "metadata": {},
   "outputs": [],
   "source": [
    "chat_df=createDataFrame(file)\n",
    "chat_df.head()"
   ]
  },
  {
   "cell_type": "code",
   "execution_count": null,
   "metadata": {},
   "outputs": [],
   "source": [
    "users, average_message_length = [], []\n",
    "_df = chat_df.copy()\n",
    "_df['Message'] = _df['Message'].apply(lambda s: len(s.split()))\n",
    "_df = _df.groupby('Author').mean().reset_index()\n",
    "for index, row in _df.iterrows():\n",
    "    users.append(row['Author'])\n",
    "    average_message_length.append(row['Message'])\n",
    "ndf=pd.DataFrame(users,average_message_length)\n",
    "print(ndf)"
   ]
  },
  {
   "cell_type": "markdown",
   "metadata": {},
   "source": [
    "# Visualisations"
   ]
  },
  {
   "cell_type": "markdown",
   "metadata": {},
   "source": [
    "Most Messages done by"
   ]
  },
  {
   "cell_type": "markdown",
   "metadata": {},
   "source": [
    "Messages per day"
   ]
  },
  {
   "cell_type": "code",
   "execution_count": null,
   "metadata": {},
   "outputs": [],
   "source": [
    "df = chat_df[chat_df['datetime'] > chat_df['datetime'].max() - pd.Timedelta(weeks=LOOKBACK_WEEKS)]\n",
    "df[\"hour\"] = chat_df[\"datetime\"].dt.hour"
   ]
  },
  {
   "cell_type": "code",
   "execution_count": null,
   "metadata": {},
   "outputs": [],
   "source": [
    "df_daily_mess = df.groupby(by=df['datetime'].dt.date)['Message'].count().reset_index()\n",
    "df_daily_mess[\"messsagecount_rm28\"] = df_daily_mess[\"Message\"].rolling(28, min_periods=13, center=True).mean()\n",
    "df_daily_mess"
   ]
  },
  {
   "cell_type": "code",
   "execution_count": null,
   "metadata": {},
   "outputs": [],
   "source": [
    "fig, ax = plt.subplots(figsize=(8,2.5))\n",
    "sns.lineplot(data=df_daily_mess, x='datetime', y='messsagecount_rm28', ax=ax, label='Label', color='#e76f51', lw=2)\n",
    "ax.set_ylim(0,200)\n",
    "ax.set_xlim([datetime.date(2019, 11, 1), datetime.date(2021, 12, 1)])\n",
    "ax.tick_params(axis='x', rotation=45)\n",
    "ax.set_title(\"Messages per Day (28 Days Rolling Mean)\", fontdict={\"fontsize\": 15})\n",
    "ax.set_xlabel(None)\n",
    "ax.set_ylabel(None)\n",
    "plt.legend(frameon = False, bbox_to_anchor=(1.04,0.5), loc=\"center left\")\n",
    "plt.tight_layout()"
   ]
  },
  {
   "cell_type": "markdown",
   "metadata": {},
   "source": [
    "Messages per Daytime"
   ]
  },
  {
   "cell_type": "code",
   "execution_count": null,
   "metadata": {},
   "outputs": [],
   "source": [
    "df_circle = df.groupby(by='hour')['Message'].count().reset_index()\n",
    "\n",
    "time = df_circle['hour']\n",
    "count = df_circle['Message']\n",
    "\n",
    "c = np.zeros(24)\n",
    "c[time] = count\n",
    "count = c\n",
    "\n",
    "f = plt.figure(figsize=(3.5, 3.5))\n",
    "ax = plt.subplot(111, projection=\"polar\")\n",
    "\n",
    "x = np.arange(0, 2 * np.pi, 2 * np.pi / len(count)) + np.pi / len(count)\n",
    "\n",
    "bars = ax.bar(x, count, width=2 * np.pi / len(count),\n",
    "              alpha=0.4, color='#e76f51', bottom=0)\n",
    "\n",
    "max_ind = np.argmax(count)\n",
    "ax.bar(x[max_ind],count[max_ind], bottom=0,\n",
    "       width=2 * np.pi / len(count), alpha=1, color='#e76f51')\n",
    "\n",
    "ax.bar(x, np.max(count) * np.ones(len(count)), width=2 * np.pi / len(count),\n",
    "    alpha=0.15, bottom=0, color='#cb997e', edgecolor=\"black\")\n",
    "\n",
    "ax.set_theta_direction(-1)\n",
    "ax.grid(False)\n",
    "ax.spines[\"polar\"].set_visible(False)\n",
    "ax.set_theta_offset(np.pi / 2)\n",
    "ax.set_xticks(np.linspace(0, 2 * np.pi, 24, endpoint=False))\n",
    "ticks = [\"12 AM\", \"\", \"\", \"3 AM\", \"\", \"\", \"6 AM\", \"\", \"\", \"9 AM\",\n",
    "         \"\", \"\", \"12 PM\", \"\", \"\", \"3 PM\", \"\", \"\", \"6 PM\", \"\", \"\",\n",
    "         \"9 PM\", \"\", \"\"]\n",
    "ax.set_xticklabels(ticks)\n",
    "plt.setp(ax.get_yticklabels(), visible=False)\n",
    "plt.tight_layout()"
   ]
  },
  {
   "cell_type": "markdown",
   "metadata": {},
   "source": [
    "Word Cloud"
   ]
  },
  {
   "cell_type": "code",
   "execution_count": null,
   "metadata": {},
   "outputs": [],
   "source": [
    "messages = [word.split() for word in chat_df[\"Message\"].values]\n",
    "words = [word.lower() for sublist in messages for word in sublist]\n",
    "\n",
    "stopwords = STOPWORDS.update(['media', 'omitted', 'deleted','missed', 'voice', 'call'])\n",
    "\n",
    "wordcloud = WordCloud(stopwords=stopwords, width=500, height=500,\n",
    "                      background_color='#f0efeb', min_word_length=2,\n",
    "                      min_font_size=10).generate(' '.join(words))\n",
    "plt.figure(figsize = (7, 7), facecolor = None)\n",
    "plt.imshow(wordcloud)\n",
    "plt.axis(\"off\")\n",
    "plt.tight_layout()"
   ]
  },
  {
   "cell_type": "code",
   "execution_count": null,
   "metadata": {},
   "outputs": [],
   "source": []
  }
 ],
 "metadata": {
  "kernelspec": {
   "display_name": "Python 3.9.1 64-bit",
   "language": "python",
   "name": "python3"
  },
  "language_info": {
   "codemirror_mode": {
    "name": "ipython",
    "version": 3
   },
   "file_extension": ".py",
   "mimetype": "text/x-python",
   "name": "python",
   "nbconvert_exporter": "python",
   "pygments_lexer": "ipython3",
   "version": "3.9.1"
  },
  "orig_nbformat": 4,
  "vscode": {
   "interpreter": {
    "hash": "a7eaba816d73e4f1a87e1d923e2352d4d0b575e232100cf2dfbc536c2e8048b9"
   }
  }
 },
 "nbformat": 4,
 "nbformat_minor": 2
}
